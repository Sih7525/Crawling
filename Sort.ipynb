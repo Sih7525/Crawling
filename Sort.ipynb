{
  "nbformat": 4,
  "nbformat_minor": 0,
  "metadata": {
    "colab": {
      "name": "Sort.ipynb",
      "provenance": [],
      "authorship_tag": "ABX9TyPnvfq501QHPu897f9yiNQ+",
      "include_colab_link": true
    },
    "kernelspec": {
      "name": "python3",
      "display_name": "Python 3"
    },
    "language_info": {
      "name": "python"
    }
  },
  "cells": [
    {
      "cell_type": "markdown",
      "metadata": {
        "id": "view-in-github",
        "colab_type": "text"
      },
      "source": [
        "<a href=\"https://colab.research.google.com/github/Sih7525/Crawling/blob/main/Sort.ipynb\" target=\"_parent\"><img src=\"https://colab.research.google.com/assets/colab-badge.svg\" alt=\"Open In Colab\"/></a>"
      ]
    },
    {
      "cell_type": "code",
      "execution_count": 14,
      "metadata": {
        "id": "YI81kGLetYD6"
      },
      "outputs": [],
      "source": [
        "# 정렬 알고리즘\n",
        "\n",
        "# 데이터를 오름차순 (1,2,3... 가나다...abc...)\n",
        "# 또는 내림차순(3,2,1....다나가...cba....)으로 나열하는 알고리즘\n",
        "\n",
        "# 정렬 알고리즘은 검색 엔진, 엑셀, 워드.....많은 분야에서 사용된다. \n",
        "\n",
        "# 선택정렬, 버블정렬, 삽입정렬, (퀵정렬) 과 같은 아주 유명하고 많이 알려진\n",
        "# 알고리즘을 배워두면 알고리즘 전반에 대한 이해도를 높일 수 있다. \n",
        "# 선택 정렬\n",
        "\n",
        "정렬되지 않은 데이터 중에서 가장 작은 데이터를 선택하여 \n",
        "맨 앞부터 순서대로 정렬해 나가는 알고리즘이다. \n",
        "\n",
        "          0   1   2   3   4     <- 인덱스 0부터 4까지\n",
        "          12  13  11  14  10    <- 정렬할 실제 데이터 (공이라고 가정)\n",
        "\n",
        "단순 선택법의 정렬원리는 먼저 가장 작은 숫자의 공을 찾는다(10)\n",
        "찾은 제일 작은 공을 0번째 방의 공과 교환한다. \n",
        "\n",
        "10 13 11 14 12   10번공은 정렬이 완전히 끝났다. \n",
        "--          --   10번공은 제외하고 제일 작은공을 교환한다.\n",
        "\n",
        "10 11 13 14 12   11번공은 정렬이 완전히 끝났다. \n",
        "   -- --         10, 11번 공을 제외하고 제일 작은 공을 교환한다. \n",
        "\n",
        "10 11 12 14 13  12번공은 정렬이 완전히 끝났다. \n",
        "      --    --  10,11,12번 공을 제외하고 제일 작은 공을 교환한다. \n",
        "\n",
        "10 11 12 13 14  정렬완료\n",
        "         -- --\n",
        "\n",
        "단순 선택법은 두가지 절차가 필요하다. \n",
        "- 탐색 범위 중 최소값을 찾는다. \n",
        "- 최소값과 탐색 범위의 맨 앞 요소와 교환한다. \n",
        "\n",
        "유사한 절차의 반복이 계속 발생한다. 반복 되는 곳을 반복 구조로 설계한다.\n",
        "\n",
        "i = 0\n",
        "array[i]부터 array[4] 사이의 최소값을 찾는다. \n",
        "최소값과 array[i]의 데이터를 교환한다. \n",
        "i = i + 1"
      ]
    },
    {
      "cell_type": "code",
      "source": [
        "def selectionSort(arr):\n",
        "  for i in range(len(arr), 0, -1):\n",
        "    max = 0 #  임시로 제일 큰 원소의 인덱스를 0번째로 가정한다.\n",
        "    for j in range(0,i):\n",
        "      if arr[j] > arr[max]:\n",
        "        max = j\n",
        "      arr[max], arr[j] = arr[j], arr[max] # 자리 바꿈 \n",
        "  return arr\n",
        "\n",
        "arr = [12,13,11,14,10]\n",
        "print('정렬 전: ', arr)\n",
        "print('정렬 후: ', selectionSort(arr))"
      ],
      "metadata": {
        "colab": {
          "base_uri": "https://localhost:8080/"
        },
        "id": "M9NWeLI6tk8K",
        "outputId": "280d20bb-9f24-4643-cc12-2989775ee58b"
      },
      "execution_count": 8,
      "outputs": [
        {
          "output_type": "stream",
          "name": "stdout",
          "text": [
            "정렬 전:  [12, 13, 11, 14, 10]\n",
            "[12, 11, 13, 10, 14]\n",
            "[11, 12, 10, 13, 14]\n",
            "[11, 10, 12, 13, 14]\n",
            "[10, 11, 12, 13, 14]\n",
            "[10, 11, 12, 13, 14]\n",
            "정렬 후:  [10, 11, 12, 13, 14]\n"
          ]
        }
      ]
    },
    {
      "cell_type": "code",
      "source": [
        "a = 1\n",
        "b = 2\n",
        "\n",
        "#파이썬에서의 자리교화\n",
        "#a, b = b, a\n",
        "\n",
        "#자바에서의 자리교환 방법\n",
        "t=a\n",
        "a=b\n",
        "b=t\n",
        "\n",
        "print('a = ', a, ', b= ', b)"
      ],
      "metadata": {
        "colab": {
          "base_uri": "https://localhost:8080/"
        },
        "id": "xuJ9qAEMwrGA",
        "outputId": "25ac7fdd-52d5-4ef8-925f-bcbb71f9160c"
      },
      "execution_count": 11,
      "outputs": [
        {
          "output_type": "stream",
          "name": "stdout",
          "text": [
            "a =  2 , b=  1\n"
          ]
        }
      ]
    },
    {
      "cell_type": "code",
      "source": [
        "# 버블 정렬, 단순 교환법\n",
        "\n",
        "인접한 데이터를 교환하여 처리를 반복하여 최종적으로 모든 데이터를 \n",
        "오름차순 또는 내림차순으로 정렬한다.\n",
        "\n",
        "0   1   2   3   4     <- 인덱스 0부터 4까지\n",
        "12  13  11  14  10 <- 정렬할 실제 데이터 (공이라고 가정)\n",
        "\n",
        "뒤(오른쪽)부터 인접한 2개의 공을 비교하여 작은 쪽이 앞(왼쪽)으로 오도록\n",
        "겨환하는 과정을 반복한다.\n",
        "\n",
        "12  13  11  14  10\n",
        "            --  --\n",
        "12  13  11  10  14\n",
        "        --  --\n",
        "12  13  10  11  14\n",
        "        --  --\n",
        "12  13  10  11  14\n",
        "    --  --\n",
        "12  10  13  11  14\n",
        "--  --\n",
        "10  12  13  11  14\n",
        "--\n",
        "\n",
        "10        12  13  11  14\n",
        "                  --  --\n",
        "10        12  13  11  14\n",
        "              --  --\n",
        "10        12  13  11  14\n",
        "              --  --\n",
        "10        12  11  13  14\n",
        "          --  --\n",
        "10        11  12  13  14\n",
        "\n",
        "\n",
        "버블 정렬\n",
        "- 끝 요소부터 차례로 인접한 데이터를 교환하여 정렬한다.\n",
        "- 왼쪽 끝 요소부터 순서대로 하나씩 데이터를 정렬 확정해 나간다.\n",
        "\n"
      ],
      "metadata": {
        "colab": {
          "base_uri": "https://localhost:8080/",
          "height": 135
        },
        "id": "t4dCdlqczThF",
        "outputId": "71d8ffc6-d264-46dc-cb5f-a072ebd0b9b1"
      },
      "execution_count": 12,
      "outputs": [
        {
          "output_type": "error",
          "ename": "SyntaxError",
          "evalue": "ignored",
          "traceback": [
            "\u001b[0;36m  File \u001b[0;32m\"<ipython-input-12-4b0920177e93>\"\u001b[0;36m, line \u001b[0;32m3\u001b[0m\n\u001b[0;31m    인접한 데이터를 교환하여 처리를 반복하여 최종적으로 모든 데이터를\u001b[0m\n\u001b[0m           ^\u001b[0m\n\u001b[0;31mSyntaxError\u001b[0m\u001b[0;31m:\u001b[0m invalid syntax\n"
          ]
        }
      ]
    },
    {
      "cell_type": "code",
      "source": [
        "def bubbleSort(arr):\n",
        "  for i in range(len(arr)-1,0,-1):\n",
        "    for j in range(0,i):\n",
        "      if arr[j] > arr[j+1]:\n",
        "        arr[j], arr[j+1] = arr[j+1], arr[j]\n",
        "\n",
        "  return arr\n",
        "\n",
        "\n",
        "arr = [12,13,11,14,10]\n",
        "print('정렬 전: ', arr)\n",
        "print('정렬 후: ', bubbleSort(arr))"
      ],
      "metadata": {
        "colab": {
          "base_uri": "https://localhost:8080/"
        },
        "id": "vyvVOq222tE2",
        "outputId": "2abfcfa1-9cdf-448f-9f9a-a095bb63bd54"
      },
      "execution_count": 21,
      "outputs": [
        {
          "output_type": "stream",
          "name": "stdout",
          "text": [
            "정렬 전:  [12, 13, 11, 14, 10]\n",
            "정렬 후:  [10, 11, 12, 13, 14]\n"
          ]
        }
      ]
    },
    {
      "cell_type": "code",
      "source": [
        "# 삽입 정렬\n",
        "\n",
        "삽입이라는 이름 그대로 요소를 하나씩 차례대로 올바른 위치에 삽입하여\n",
        "최종적으로 전체를 정렬하는 알고리즘이다. \n",
        "기본 삽입법, 단순 삽입법이라고도 부른다.\n",
        "\n",
        "실제 일상생활에서 우리가 물건을 정렬할때 사용하는 방법에 가깝다.\n",
        "사실은 정렬속도는 빠르지 않다. 하지만 개념을 잡기에는 상당히 유익하다.\n",
        "\n",
        "  0   1   2   3   4     <- 인덱스 0부터 4까지\n",
        "  12  13  11  14  10 <- 정렬할 실제 데이터 (공이라고 가정)\n",
        "\n",
        "정렬 처리 방법은 단순하다. 선택한 공을 대소 관계가 올바른 위치에\n",
        "삽입하는 것이 기본 동작이다.\n",
        "\n",
        "단순 삽입법에서는 공을 '정렬된 공'과 '아직 정렬되지 않은 공'으로 나누어\n",
        "생각해 보자. 일단 0번째 방의 공을 '이미 정렬된 공'이라고 가정하고 나머지\n",
        "방에 있는 공들은 '아직 정렬되지 않은 공' 이라고 가정한다.\n",
        "\n",
        "정렬되지 않은 공 중에서 가장 왼쪽에 있는 공부터 정렬된 공(들) 중\n",
        "올바른 위치에 삽입하는 방법을 반복하게 된다.\n",
        "\n",
        "현재는 0번방의 12를 정렬된 공으로 가정하고 '아직 정렬되지 않은 공' 중\n",
        "가장 왼쪽의 13(index 1)을 '정렬된 공'과 비교하여 올바른 위치에 삽입한다.\n",
        "\n",
        "        12              13  11  14  10\n",
        "        12 13           11  14  10\n",
        "        11 12 13        14  10\n",
        "        11 12 13 14     10\n",
        "        10 11 12 13 14 \n",
        "\n",
        "\n",
        "      0   1   2   3   4     <- 인덱스 0부터 4까지\n",
        "      12  13  11  14  10 <- 정렬할 실제 데이터 (공이라고 가정)      \n",
        "\n",
        "일단 정렬 된 공은 (가정)  12 하나이다.\n",
        "    12 13 11 14 10\n",
        "    12 13 11 14 10\n",
        "\n",
        "          (11) \n",
        "    12 13 null 14 10\n",
        "          (11)      \n",
        "    null 12 13 14 10\n",
        "                              \n",
        "    11 12 13 14 10\n",
        "                 (10) \n",
        "    11 12 13 14 null\n",
        "    11 12 13 null 14\n",
        "    11 12 null 13 14\n",
        "    11 null 12 13 14\n",
        "    null 11 12 13 14\n",
        "    \n",
        "    10 11 12 13 14\n",
        "\n"
      ],
      "metadata": {
        "colab": {
          "base_uri": "https://localhost:8080/",
          "height": 135
        },
        "id": "NAytrHEz6Epq",
        "outputId": "615fe51e-ce4c-4b00-cab6-9315e742be5c"
      },
      "execution_count": 22,
      "outputs": [
        {
          "output_type": "error",
          "ename": "SyntaxError",
          "evalue": "ignored",
          "traceback": [
            "\u001b[0;36m  File \u001b[0;32m\"<ipython-input-22-8ea0d7b8a0bf>\"\u001b[0;36m, line \u001b[0;32m3\u001b[0m\n\u001b[0;31m    삽입이라는 이름 그대로 요소를 하나씩 차례대로 올바른 위치에 삽입하여\u001b[0m\n\u001b[0m           ^\u001b[0m\n\u001b[0;31mSyntaxError\u001b[0m\u001b[0;31m:\u001b[0m invalid syntax\n"
          ]
        }
      ]
    },
    {
      "cell_type": "code",
      "source": [
        "def insertionSort(arr):\n",
        "  for i in range(1,len(arr)):\n",
        "    while i > 0 and arr[i] < arr[i-1]:\n",
        "      arr[i], arr[i-1] = arr[i-1], arr[i]\n",
        "      i = i - 1\n",
        "  return arr\n",
        "arr = [12,13,11,14,10]\n",
        "print('정렬 전: ', arr)\n",
        "print('정렬 후: ', insertionSort(arr))"
      ],
      "metadata": {
        "colab": {
          "base_uri": "https://localhost:8080/"
        },
        "id": "iIEW-OR5OgMG",
        "outputId": "5e40b42b-762c-417b-9438-2b13d1a6e295"
      },
      "execution_count": 23,
      "outputs": [
        {
          "output_type": "stream",
          "name": "stdout",
          "text": [
            "정렬 전:  [12, 13, 11, 14, 10]\n",
            "정렬 후:  [10, 11, 12, 13, 14]\n"
          ]
        }
      ]
    },
    {
      "cell_type": "code",
      "source": [
        ""
      ],
      "metadata": {
        "id": "6K8T0_21RXE1"
      },
      "execution_count": null,
      "outputs": []
    }
  ]
}